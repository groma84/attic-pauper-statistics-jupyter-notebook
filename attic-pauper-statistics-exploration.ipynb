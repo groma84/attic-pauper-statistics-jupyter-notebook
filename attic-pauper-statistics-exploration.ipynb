{
 "cells": [
  {
   "cell_type": "code",
   "execution_count": 1,
   "id": "f26bc7a8-d195-48c6-855e-90895e282412",
   "metadata": {},
   "outputs": [
    {
     "name": "stdout",
     "output_type": "stream",
     "text": [
      "Defaulting to user installation because normal site-packages is not writeable\n",
      "Requirement already satisfied: gspread in c:\\users\\mgrotz\\appdata\\roaming\\python\\python310\\site-packages (6.1.4)\n",
      "Requirement already satisfied: pandas in c:\\users\\mgrotz\\appdata\\roaming\\python\\python310\\site-packages (2.2.3)\n",
      "Requirement already satisfied: matplotlib in c:\\users\\mgrotz\\appdata\\roaming\\python\\python310\\site-packages (3.9.2)\n",
      "Requirement already satisfied: google-auth>=1.12.0 in c:\\users\\mgrotz\\appdata\\roaming\\python\\python310\\site-packages (from gspread) (2.36.0)\n",
      "Requirement already satisfied: google-auth-oauthlib>=0.4.1 in c:\\users\\mgrotz\\appdata\\roaming\\python\\python310\\site-packages (from gspread) (1.2.1)\n",
      "Requirement already satisfied: python-dateutil>=2.8.2 in c:\\users\\mgrotz\\appdata\\roaming\\python\\python310\\site-packages (from pandas) (2.9.0.post0)\n",
      "Requirement already satisfied: tzdata>=2022.7 in c:\\users\\mgrotz\\appdata\\roaming\\python\\python310\\site-packages (from pandas) (2024.2)\n",
      "Requirement already satisfied: numpy>=1.22.4 in c:\\users\\mgrotz\\appdata\\roaming\\python\\python310\\site-packages (from pandas) (2.1.3)\n",
      "Requirement already satisfied: pytz>=2020.1 in c:\\users\\mgrotz\\appdata\\roaming\\python\\python310\\site-packages (from pandas) (2024.2)\n",
      "Requirement already satisfied: cycler>=0.10 in c:\\users\\mgrotz\\appdata\\roaming\\python\\python310\\site-packages (from matplotlib) (0.12.1)\n",
      "Requirement already satisfied: kiwisolver>=1.3.1 in c:\\users\\mgrotz\\appdata\\roaming\\python\\python310\\site-packages (from matplotlib) (1.4.7)\n",
      "Requirement already satisfied: pillow>=8 in c:\\users\\mgrotz\\appdata\\roaming\\python\\python310\\site-packages (from matplotlib) (11.0.0)\n",
      "Requirement already satisfied: pyparsing>=2.3.1 in c:\\users\\mgrotz\\appdata\\roaming\\python\\python310\\site-packages (from matplotlib) (3.2.0)\n",
      "Requirement already satisfied: packaging>=20.0 in c:\\users\\mgrotz\\appdata\\roaming\\python\\python310\\site-packages (from matplotlib) (24.1)\n",
      "Requirement already satisfied: fonttools>=4.22.0 in c:\\users\\mgrotz\\appdata\\roaming\\python\\python310\\site-packages (from matplotlib) (4.54.1)\n",
      "Requirement already satisfied: contourpy>=1.0.1 in c:\\users\\mgrotz\\appdata\\roaming\\python\\python310\\site-packages (from matplotlib) (1.3.0)\n",
      "Requirement already satisfied: cachetools<6.0,>=2.0.0 in c:\\users\\mgrotz\\appdata\\roaming\\python\\python310\\site-packages (from google-auth>=1.12.0->gspread) (5.5.0)\n",
      "Requirement already satisfied: pyasn1-modules>=0.2.1 in c:\\users\\mgrotz\\appdata\\roaming\\python\\python310\\site-packages (from google-auth>=1.12.0->gspread) (0.4.1)\n",
      "Requirement already satisfied: rsa<5,>=3.1.4 in c:\\users\\mgrotz\\appdata\\roaming\\python\\python310\\site-packages (from google-auth>=1.12.0->gspread) (4.9)\n",
      "Requirement already satisfied: requests-oauthlib>=0.7.0 in c:\\users\\mgrotz\\appdata\\roaming\\python\\python310\\site-packages (from google-auth-oauthlib>=0.4.1->gspread) (2.0.0)\n",
      "Requirement already satisfied: six>=1.5 in c:\\users\\mgrotz\\appdata\\roaming\\python\\python310\\site-packages (from python-dateutil>=2.8.2->pandas) (1.16.0)\n",
      "Requirement already satisfied: pyasn1<0.7.0,>=0.4.6 in c:\\users\\mgrotz\\appdata\\roaming\\python\\python310\\site-packages (from pyasn1-modules>=0.2.1->google-auth>=1.12.0->gspread) (0.6.1)\n",
      "Requirement already satisfied: requests>=2.0.0 in c:\\users\\mgrotz\\appdata\\roaming\\python\\python310\\site-packages (from requests-oauthlib>=0.7.0->google-auth-oauthlib>=0.4.1->gspread) (2.32.3)\n",
      "Requirement already satisfied: oauthlib>=3.0.0 in c:\\users\\mgrotz\\appdata\\roaming\\python\\python310\\site-packages (from requests-oauthlib>=0.7.0->google-auth-oauthlib>=0.4.1->gspread) (3.2.2)\n",
      "Requirement already satisfied: idna<4,>=2.5 in c:\\users\\mgrotz\\appdata\\roaming\\python\\python310\\site-packages (from requests>=2.0.0->requests-oauthlib>=0.7.0->google-auth-oauthlib>=0.4.1->gspread) (3.3)\n",
      "Requirement already satisfied: certifi>=2017.4.17 in c:\\users\\mgrotz\\appdata\\roaming\\python\\python310\\site-packages (from requests>=2.0.0->requests-oauthlib>=0.7.0->google-auth-oauthlib>=0.4.1->gspread) (2022.6.15)\n",
      "Requirement already satisfied: charset-normalizer<4,>=2 in c:\\users\\mgrotz\\appdata\\roaming\\python\\python310\\site-packages (from requests>=2.0.0->requests-oauthlib>=0.7.0->google-auth-oauthlib>=0.4.1->gspread) (2.0.12)\n",
      "Requirement already satisfied: urllib3<3,>=1.21.1 in c:\\users\\mgrotz\\appdata\\roaming\\python\\python310\\site-packages (from requests>=2.0.0->requests-oauthlib>=0.7.0->google-auth-oauthlib>=0.4.1->gspread) (1.26.9)\n"
     ]
    },
    {
     "name": "stderr",
     "output_type": "stream",
     "text": [
      "WARNING: You are using pip version 22.0.4; however, version 24.3.1 is available.\n",
      "You should consider upgrading via the 'C:\\Program Files\\Python310\\python.exe -m pip install --upgrade pip' command.\n"
     ]
    }
   ],
   "source": [
    "!pip install gspread pandas matplotlib"
   ]
  },
  {
   "cell_type": "code",
   "execution_count": 2,
   "id": "d12c0a6f-0127-485d-815e-c8ae39563881",
   "metadata": {},
   "outputs": [],
   "source": [
    "import gspread\n",
    "import pandas as pd\n",
    "import matplotlib.pyplot as plt"
   ]
  },
  {
   "cell_type": "code",
   "execution_count": 3,
   "id": "4427099b-29ac-45ec-ba9a-cf1c5ec6bfe7",
   "metadata": {},
   "outputs": [],
   "source": [
    "sa = gspread.service_account(filename=\"access.json\")\n",
    "# sa.list_spreadsheet_files()\n",
    "sheet = sa.open(\"Magic Statistics - Pauper\")"
   ]
  },
  {
   "cell_type": "code",
   "execution_count": 4,
   "id": "92b81987-275b-4566-affa-f871c951aae5",
   "metadata": {},
   "outputs": [],
   "source": [
    "events_sheet = sheet.worksheet(\"Events\")\n",
    "pairings_sheet = sheet.worksheet(\"Pairings\")\n",
    "decks_sheet = sheet.worksheet(\"Decks\")"
   ]
  },
  {
   "cell_type": "code",
   "execution_count": 5,
   "id": "88056788-9eac-40cf-945c-35ab0afca5b4",
   "metadata": {},
   "outputs": [],
   "source": [
    "events_df = pd.DataFrame(events_sheet.get_all_records())\n",
    "pairings_df = pd.DataFrame(pairings_sheet.get_all_records())\n",
    "decks_df = pd.DataFrame(decks_sheet.get_all_records())"
   ]
  },
  {
   "cell_type": "code",
   "execution_count": 6,
   "id": "42d0b6cb-5046-44df-80ed-f5225a8a8eb2",
   "metadata": {},
   "outputs": [
    {
     "data": {
      "text/html": [
       "<div>\n",
       "<style scoped>\n",
       "    .dataframe tbody tr th:only-of-type {\n",
       "        vertical-align: middle;\n",
       "    }\n",
       "\n",
       "    .dataframe tbody tr th {\n",
       "        vertical-align: top;\n",
       "    }\n",
       "\n",
       "    .dataframe thead th {\n",
       "        text-align: right;\n",
       "    }\n",
       "</style>\n",
       "<table border=\"1\" class=\"dataframe\">\n",
       "  <thead>\n",
       "    <tr style=\"text-align: right;\">\n",
       "      <th></th>\n",
       "      <th>Standing</th>\n",
       "      <th>Deck</th>\n",
       "    </tr>\n",
       "  </thead>\n",
       "  <tbody>\n",
       "    <tr>\n",
       "      <th>297</th>\n",
       "      <td>1</td>\n",
       "      <td>Grixis Affinity</td>\n",
       "    </tr>\n",
       "    <tr>\n",
       "      <th>298</th>\n",
       "      <td>2</td>\n",
       "      <td>Bogles</td>\n",
       "    </tr>\n",
       "    <tr>\n",
       "      <th>299</th>\n",
       "      <td>3</td>\n",
       "      <td>Caw Gate</td>\n",
       "    </tr>\n",
       "    <tr>\n",
       "      <th>300</th>\n",
       "      <td>4</td>\n",
       "      <td>Abzan Food</td>\n",
       "    </tr>\n",
       "    <tr>\n",
       "      <th>301</th>\n",
       "      <td>5</td>\n",
       "      <td>MonoU Terror</td>\n",
       "    </tr>\n",
       "    <tr>\n",
       "      <th>302</th>\n",
       "      <td>6</td>\n",
       "      <td>Grixis Affinity</td>\n",
       "    </tr>\n",
       "    <tr>\n",
       "      <th>303</th>\n",
       "      <td>7</td>\n",
       "      <td>Zombinity</td>\n",
       "    </tr>\n",
       "    <tr>\n",
       "      <th>304</th>\n",
       "      <td>8</td>\n",
       "      <td>MonoR Kuldotha</td>\n",
       "    </tr>\n",
       "    <tr>\n",
       "      <th>305</th>\n",
       "      <td>9</td>\n",
       "      <td>BG Gleezard</td>\n",
       "    </tr>\n",
       "    <tr>\n",
       "      <th>306</th>\n",
       "      <td>10</td>\n",
       "      <td>BR Reanimator</td>\n",
       "    </tr>\n",
       "    <tr>\n",
       "      <th>307</th>\n",
       "      <td>11</td>\n",
       "      <td>MonoU Terror</td>\n",
       "    </tr>\n",
       "    <tr>\n",
       "      <th>308</th>\n",
       "      <td>12</td>\n",
       "      <td>MonoU Terror</td>\n",
       "    </tr>\n",
       "  </tbody>\n",
       "</table>\n",
       "</div>"
      ],
      "text/plain": [
       "     Standing             Deck\n",
       "297         1  Grixis Affinity\n",
       "298         2           Bogles\n",
       "299         3         Caw Gate\n",
       "300         4       Abzan Food\n",
       "301         5     MonoU Terror\n",
       "302         6  Grixis Affinity\n",
       "303         7        Zombinity\n",
       "304         8   MonoR Kuldotha\n",
       "305         9      BG Gleezard\n",
       "306        10    BR Reanimator\n",
       "307        11     MonoU Terror\n",
       "308        12     MonoU Terror"
      ]
     },
     "execution_count": 6,
     "metadata": {},
     "output_type": "execute_result"
    }
   ],
   "source": [
    "# Letztes Event Ergebnisse\n",
    "events_df.loc[events_df[\"Date\"] == events_df[\"Date\"].iloc[-1], [\"Standing\", \"Deck\"]]"
   ]
  },
  {
   "cell_type": "code",
   "execution_count": 7,
   "id": "925357ef-6b39-445e-ad6a-a09dfa592619",
   "metadata": {},
   "outputs": [
    {
     "data": {
      "text/plain": [
       "<Axes: xlabel='Date'>"
      ]
     },
     "execution_count": 7,
     "metadata": {},
     "output_type": "execute_result"
    },
    {
     "data": {
      "image/png": "[encoded data removed]",
      "text/plain": [
       "<Figure size 640x480 with 1 Axes>"
      ]
     },
     "metadata": {},
     "output_type": "display_data"
    }
   ],
   "source": [
    "# Spieleranzahl pro Event\n",
    "events_people_count = events_df[\"Date\"].value_counts()[events_df[\"Date\"].unique()]\n",
    "events_people_count.plot.bar()"
   ]
  },
  {
   "cell_type": "code",
   "execution_count": 10,
   "id": "331a31c5-57a1-4bce-a587-7cf632037830",
   "metadata": {},
   "outputs": [],
   "source": [
    "decks_df[\"AggroB\"] = (decks_df[\"Aggro\"] == 'TRUE').astype(int)\n",
    "decks_df[\"TempoB\"] = (decks_df[\"Tempo\"] == 'TRUE').astype(int)\n",
    "decks_df[\"MidrangeB\"] = (decks_df[\"Midrange\"] == 'TRUE').astype(int)\n",
    "decks_df[\"ControlB\"] = (decks_df[\"Control\"] == 'TRUE').astype(int)\n",
    "decks_df[\"ComboB\"] = (decks_df[\"Combo\"] == 'TRUE').astype(int)\n",
    "\n",
    "decks_df[\"AggroV\"] = (1/(decks_df[\"AggroB\"] + decks_df[\"TempoB\"] + decks_df[\"MidrangeB\"] + decks_df[\"ControlB\"] + decks_df[\"ComboB\"]))*decks_df[\"AggroB\"]\n",
    "decks_df[\"TempoV\"] = (1/(decks_df[\"AggroB\"] + decks_df[\"TempoB\"] + decks_df[\"MidrangeB\"] + decks_df[\"ControlB\"] + decks_df[\"ComboB\"]))*decks_df[\"TempoB\"]\n",
    "decks_df[\"MidrangeV\"] = (1/(decks_df[\"AggroB\"] + decks_df[\"TempoB\"] + decks_df[\"MidrangeB\"] + decks_df[\"ControlB\"] + decks_df[\"ComboB\"]))*decks_df[\"MidrangeB\"]\n",
    "decks_df[\"ControlV\"] = (1/(decks_df[\"AggroB\"] + decks_df[\"TempoB\"] + decks_df[\"MidrangeB\"] + decks_df[\"ControlB\"] + decks_df[\"ComboB\"]))*decks_df[\"ControlB\"]\n",
    "decks_df[\"ComboV\"] = (1/(decks_df[\"AggroB\"] + decks_df[\"TempoB\"] + decks_df[\"MidrangeB\"] + decks_df[\"ControlB\"] + decks_df[\"ComboB\"]))*decks_df[\"ComboB\"]"
   ]
  },
  {
   "cell_type": "code",
   "execution_count": 13,
   "id": "52683490-da6c-4ac5-9fe0-d30ebcc8aef7",
   "metadata": {},
   "outputs": [
    {
     "data": {
      "text/plain": [
       "<Axes: title={'center': 'Archetypes 2024-11-29'}>"
      ]
     },
     "execution_count": 13,
     "metadata": {},
     "output_type": "execute_result"
    },
    {
     "data": {
      "image/png": "[encoded data removed]",
      "text/plain": [
       "<Figure size 640x480 with 1 Axes>"
      ]
     },
     "metadata": {},
     "output_type": "display_data"
    }
   ],
   "source": [
    "decks_of_last_event = events_df.loc[events_df[\"Date\"] == events_df[\"Date\"].iloc[-1]].merge(decks_df, how=\"left\", on=\"Deck\")\n",
    "date_of_last_event = events_df[\"Date\"].iloc[-1]\n",
    "archetypevalues_of_last_event = decks_of_last_event[[\"AggroV\", \"TempoV\", \"MidrangeV\", \"ControlV\", \"ComboV\"]].copy()\n",
    "archetypevalues_of_last_event.sum().plot.pie(title=\"Archetypes \" + date_of_last_event, autopct='%1.1f%%', labels=[\"Aggro\", \"Tempo\", \"Midrange\", \"Control\", \"Combo\"])"
   ]
  },
  {
   "cell_type": "code",
   "execution_count": 16,
   "id": "556f810e-2963-42de-921a-14f683093989",
   "metadata": {},
   "outputs": [
    {
     "data": {
      "text/plain": [
       "Player         \n",
       "Michi S.           12\n",
       "Raphael K.          9\n",
       "Timo Bu.            8\n",
       "Marvin H.           5\n",
       "Martin G.           4\n",
       "Luen T.             4\n",
       "Michael K.          3\n",
       "Tim R.              3\n",
       "Wei Luen T.         3\n",
       "Johannes Br.        2\n",
       "Jean-Luc K.         2\n",
       "Christopher Hö.     2\n",
       "Henrik A.           1\n",
       "Fabian W.           1\n",
       "Basti B.            1\n",
       "Aaron S.            1\n",
       "Max R.              1\n",
       "Matthias K.         1\n",
       "Kai B.              1\n",
       "Alexander R.        1\n",
       "Christian K.        1\n",
       "Christopher H.      1\n",
       "Paul M.             1\n",
       "Muhammed S.         1\n",
       "Simon H.            1\n",
       "Robert              1\n",
       "Paul S.             1\n",
       "Thomas S.           1\n",
       "Timo Bl.            1\n",
       "Wadim B.            1\n",
       "Wolfgang K.         1\n",
       "Yann P.             1\n",
       "Name: count, dtype: int64"
      ]
     },
     "execution_count": 16,
     "metadata": {},
     "output_type": "execute_result"
    }
   ],
   "source": [
    "# Top Top4 Finishers\n",
    "top4_finishers = events_df.loc[events_df[\"Standing\"] <= 4, [\"Player\"]]\n",
    "regular_top4_finishers = top4_finishers.value_counts()\n",
    "regular_top4_finishers"
   ]
  },
  {
   "cell_type": "code",
   "execution_count": 17,
   "id": "a1550b93-5f92-47fb-bda1-ae1a906a7d68",
   "metadata": {},
   "outputs": [
    {
     "data": {
      "text/plain": [
       "Player         \n",
       "Raphael K.         2\n",
       "Michi S.           2\n",
       "Timo Bu.           2\n",
       "Aaron S.           1\n",
       "Alexander R.       1\n",
       "Johannes Br.       1\n",
       "Christopher Hö.    1\n",
       "Fabian W.          1\n",
       "Jean-Luc K.        1\n",
       "Martin G.          1\n",
       "Luen T.            1\n",
       "Kai B.             1\n",
       "Marvin H.          1\n",
       "Michael K.         1\n",
       "Max R.             1\n",
       "Paul S.            1\n",
       "Simon H.           1\n",
       "Name: count, dtype: int64"
      ]
     },
     "execution_count": 17,
     "metadata": {},
     "output_type": "execute_result"
    }
   ],
   "source": [
    "# Sieger\n",
    "winners = events_df.loc[events_df[\"Standing\"] <= 1, [\"Player\"]]\n",
    "regular_winners = winners.value_counts()\n",
    "regular_winners"
   ]
  },
  {
   "cell_type": "code",
   "execution_count": 18,
   "id": "b9534832-0a60-4c36-b031-87ec5fb1f995",
   "metadata": {},
   "outputs": [
    {
     "data": {
      "text/plain": [
       "<BarContainer object of 3 artists>"
      ]
     },
     "execution_count": 18,
     "metadata": {},
     "output_type": "execute_result"
    },
    {
     "data": {
      "image/png": "[encoded data removed]",
      "text/plain": [
       "<Figure size 640x480 with 1 Axes>"
      ]
     },
     "metadata": {},
     "output_type": "display_data"
    }
   ],
   "source": [
    "# Top Top4 Finishers, mit manueller Ausgabe\n",
    "for_plot = pd.DataFrame({\n",
    "    \"Name\": [\"Raphael K.\", \"Michi S.\", \"Timo Bu.\"],\n",
    "    \"#Top4\": [9, 12, 8],\n",
    "})\n",
    "\n",
    "\n",
    "fig, ax = plt.subplots()\n",
    "ax.yaxis.set_ticks([8, 9, 12])\n",
    "plt.bar(for_plot[\"Name\"], for_plot[\"#Top4\"], label=\"Top 4 Finishes\", color='orange')"
   ]
  },
  {
   "cell_type": "code",
   "execution_count": null,
   "id": "18e04201-daa5-44ec-ade8-4f2b74070924",
   "metadata": {},
   "outputs": [],
   "source": []
  }
 ],
 "metadata": {
  "kernelspec": {
   "display_name": "Python 3 (ipykernel)",
   "language": "python",
   "name": "python3"
  },
  "language_info": {
   "codemirror_mode": {
    "name": "ipython",
    "version": 3
   },
   "file_extension": ".py",
   "mimetype": "text/x-python",
   "name": "python",
   "nbconvert_exporter": "python",
   "pygments_lexer": "ipython3",
   "version": "3.10.4"
  }
 },
 "nbformat": 4,
 "nbformat_minor": 5
}
