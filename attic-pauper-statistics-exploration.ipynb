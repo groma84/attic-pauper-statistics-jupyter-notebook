{
 "cells": [
  {
   "cell_type": "code",
   "execution_count": 1,
   "id": "f26bc7a8-d195-48c6-855e-90895e282412",
   "metadata": {},
   "outputs": [
    {
     "name": "stdout",
     "output_type": "stream",
     "text": [
      "Requirement already satisfied: gspread in c:\\users\\u438842\\appdata\\local\\programs\\python\\python313\\lib\\site-packages (6.1.4)\n",
      "Requirement already satisfied: pandas in c:\\users\\u438842\\appdata\\local\\programs\\python\\python313\\lib\\site-packages (2.2.3)\n",
      "Requirement already satisfied: matplotlib in c:\\users\\u438842\\appdata\\local\\programs\\python\\python313\\lib\\site-packages (3.10.0)\n",
      "Requirement already satisfied: google-auth>=1.12.0 in c:\\users\\u438842\\appdata\\local\\programs\\python\\python313\\lib\\site-packages (from gspread) (2.38.0)\n",
      "Requirement already satisfied: google-auth-oauthlib>=0.4.1 in c:\\users\\u438842\\appdata\\local\\programs\\python\\python313\\lib\\site-packages (from gspread) (1.2.1)\n",
      "Requirement already satisfied: numpy>=1.26.0 in c:\\users\\u438842\\appdata\\local\\programs\\python\\python313\\lib\\site-packages (from pandas) (2.2.2)\n",
      "Requirement already satisfied: python-dateutil>=2.8.2 in c:\\users\\u438842\\appdata\\local\\programs\\python\\python313\\lib\\site-packages (from pandas) (2.9.0.post0)\n",
      "Requirement already satisfied: pytz>=2020.1 in c:\\users\\u438842\\appdata\\local\\programs\\python\\python313\\lib\\site-packages (from pandas) (2025.1)\n",
      "Requirement already satisfied: tzdata>=2022.7 in c:\\users\\u438842\\appdata\\local\\programs\\python\\python313\\lib\\site-packages (from pandas) (2025.1)\n",
      "Requirement already satisfied: contourpy>=1.0.1 in c:\\users\\u438842\\appdata\\local\\programs\\python\\python313\\lib\\site-packages (from matplotlib) (1.3.1)\n",
      "Requirement already satisfied: cycler>=0.10 in c:\\users\\u438842\\appdata\\local\\programs\\python\\python313\\lib\\site-packages (from matplotlib) (0.12.1)\n",
      "Requirement already satisfied: fonttools>=4.22.0 in c:\\users\\u438842\\appdata\\local\\programs\\python\\python313\\lib\\site-packages (from matplotlib) (4.56.0)\n",
      "Requirement already satisfied: kiwisolver>=1.3.1 in c:\\users\\u438842\\appdata\\local\\programs\\python\\python313\\lib\\site-packages (from matplotlib) (1.4.8)\n",
      "Requirement already satisfied: packaging>=20.0 in c:\\users\\u438842\\appdata\\local\\programs\\python\\python313\\lib\\site-packages (from matplotlib) (24.2)\n",
      "Requirement already satisfied: pillow>=8 in c:\\users\\u438842\\appdata\\local\\programs\\python\\python313\\lib\\site-packages (from matplotlib) (11.1.0)\n",
      "Requirement already satisfied: pyparsing>=2.3.1 in c:\\users\\u438842\\appdata\\local\\programs\\python\\python313\\lib\\site-packages (from matplotlib) (3.2.1)\n",
      "Requirement already satisfied: cachetools<6.0,>=2.0.0 in c:\\users\\u438842\\appdata\\local\\programs\\python\\python313\\lib\\site-packages (from google-auth>=1.12.0->gspread) (5.5.1)\n",
      "Requirement already satisfied: pyasn1-modules>=0.2.1 in c:\\users\\u438842\\appdata\\local\\programs\\python\\python313\\lib\\site-packages (from google-auth>=1.12.0->gspread) (0.4.1)\n",
      "Requirement already satisfied: rsa<5,>=3.1.4 in c:\\users\\u438842\\appdata\\local\\programs\\python\\python313\\lib\\site-packages (from google-auth>=1.12.0->gspread) (4.9)\n",
      "Requirement already satisfied: requests-oauthlib>=0.7.0 in c:\\users\\u438842\\appdata\\local\\programs\\python\\python313\\lib\\site-packages (from google-auth-oauthlib>=0.4.1->gspread) (2.0.0)\n",
      "Requirement already satisfied: six>=1.5 in c:\\users\\u438842\\appdata\\local\\programs\\python\\python313\\lib\\site-packages (from python-dateutil>=2.8.2->pandas) (1.17.0)\n",
      "Requirement already satisfied: pyasn1<0.7.0,>=0.4.6 in c:\\users\\u438842\\appdata\\local\\programs\\python\\python313\\lib\\site-packages (from pyasn1-modules>=0.2.1->google-auth>=1.12.0->gspread) (0.6.1)\n",
      "Requirement already satisfied: oauthlib>=3.0.0 in c:\\users\\u438842\\appdata\\local\\programs\\python\\python313\\lib\\site-packages (from requests-oauthlib>=0.7.0->google-auth-oauthlib>=0.4.1->gspread) (3.2.2)\n",
      "Requirement already satisfied: requests>=2.0.0 in c:\\users\\u438842\\appdata\\local\\programs\\python\\python313\\lib\\site-packages (from requests-oauthlib>=0.7.0->google-auth-oauthlib>=0.4.1->gspread) (2.32.3)\n",
      "Requirement already satisfied: charset-normalizer<4,>=2 in c:\\users\\u438842\\appdata\\local\\programs\\python\\python313\\lib\\site-packages (from requests>=2.0.0->requests-oauthlib>=0.7.0->google-auth-oauthlib>=0.4.1->gspread) (3.4.1)\n",
      "Requirement already satisfied: idna<4,>=2.5 in c:\\users\\u438842\\appdata\\local\\programs\\python\\python313\\lib\\site-packages (from requests>=2.0.0->requests-oauthlib>=0.7.0->google-auth-oauthlib>=0.4.1->gspread) (3.10)\n",
      "Requirement already satisfied: urllib3<3,>=1.21.1 in c:\\users\\u438842\\appdata\\local\\programs\\python\\python313\\lib\\site-packages (from requests>=2.0.0->requests-oauthlib>=0.7.0->google-auth-oauthlib>=0.4.1->gspread) (2.3.0)\n",
      "Requirement already satisfied: certifi>=2017.4.17 in c:\\users\\u438842\\appdata\\local\\programs\\python\\python313\\lib\\site-packages (from requests>=2.0.0->requests-oauthlib>=0.7.0->google-auth-oauthlib>=0.4.1->gspread) (2025.1.31)\n"
     ]
    }
   ],
   "source": [
    "!pip install gspread pandas matplotlib"
   ]
  },
  {
   "cell_type": "code",
   "execution_count": 2,
   "id": "d12c0a6f-0127-485d-815e-c8ae39563881",
   "metadata": {},
   "outputs": [],
   "source": [
    "import gspread\n",
    "import pandas as pd\n",
    "import matplotlib.pyplot as plt"
   ]
  },
  {
   "cell_type": "code",
   "execution_count": 3,
   "id": "4427099b-29ac-45ec-ba9a-cf1c5ec6bfe7",
   "metadata": {},
   "outputs": [],
   "source": [
    "sa = gspread.service_account(filename=\"access.json\")\n",
    "# sa.list_spreadsheet_files()\n",
    "sheet = sa.open(\"Magic Statistics - Pauper\")"
   ]
  },
  {
   "cell_type": "code",
   "execution_count": 4,
   "id": "92b81987-275b-4566-affa-f871c951aae5",
   "metadata": {},
   "outputs": [],
   "source": [
    "events_sheet = sheet.worksheet(\"Events\")\n",
    "pairings_sheet = sheet.worksheet(\"Pairings\")\n",
    "decks_sheet = sheet.worksheet(\"Decks\")"
   ]
  },
  {
   "cell_type": "code",
   "execution_count": 5,
   "id": "88056788-9eac-40cf-945c-35ab0afca5b4",
   "metadata": {},
   "outputs": [],
   "source": [
    "events_df = pd.DataFrame(events_sheet.get_all_records())\n",
    "pairings_df = pd.DataFrame(pairings_sheet.get_all_records())\n",
    "decks_df = pd.DataFrame(decks_sheet.get_all_records())"
   ]
  },
  {
   "cell_type": "code",
   "execution_count": 19,
   "id": "42d0b6cb-5046-44df-80ed-f5225a8a8eb2",
   "metadata": {},
   "outputs": [
    {
     "data": {
      "text/html": [
       "<div>\n",
       "<style scoped>\n",
       "    .dataframe tbody tr th:only-of-type {\n",
       "        vertical-align: middle;\n",
       "    }\n",
       "\n",
       "    .dataframe tbody tr th {\n",
       "        vertical-align: top;\n",
       "    }\n",
       "\n",
       "    .dataframe thead th {\n",
       "        text-align: right;\n",
       "    }\n",
       "</style>\n",
       "<table border=\"1\" class=\"dataframe\">\n",
       "  <thead>\n",
       "    <tr style=\"text-align: right;\">\n",
       "      <th></th>\n",
       "      <th>Standing</th>\n",
       "      <th>Deck</th>\n",
       "    </tr>\n",
       "  </thead>\n",
       "  <tbody>\n",
       "    <tr>\n",
       "      <th>333</th>\n",
       "      <td>1</td>\n",
       "      <td>Rakdos Madness</td>\n",
       "    </tr>\n",
       "    <tr>\n",
       "      <th>334</th>\n",
       "      <td>2</td>\n",
       "      <td>MonoU Faeries</td>\n",
       "    </tr>\n",
       "    <tr>\n",
       "      <th>335</th>\n",
       "      <td>3</td>\n",
       "      <td>UB Terror</td>\n",
       "    </tr>\n",
       "    <tr>\n",
       "      <th>336</th>\n",
       "      <td>4</td>\n",
       "      <td>Caw Gate</td>\n",
       "    </tr>\n",
       "    <tr>\n",
       "      <th>337</th>\n",
       "      <td>5</td>\n",
       "      <td>Jund Glee</td>\n",
       "    </tr>\n",
       "    <tr>\n",
       "      <th>338</th>\n",
       "      <td>6</td>\n",
       "      <td>Jund Midrange</td>\n",
       "    </tr>\n",
       "    <tr>\n",
       "      <th>339</th>\n",
       "      <td>7</td>\n",
       "      <td>Jund Glee</td>\n",
       "    </tr>\n",
       "    <tr>\n",
       "      <th>340</th>\n",
       "      <td>8</td>\n",
       "      <td>WB Blade</td>\n",
       "    </tr>\n",
       "    <tr>\n",
       "      <th>341</th>\n",
       "      <td>9</td>\n",
       "      <td>Grixis Affinity</td>\n",
       "    </tr>\n",
       "    <tr>\n",
       "      <th>342</th>\n",
       "      <td>10</td>\n",
       "      <td>BW Stompy</td>\n",
       "    </tr>\n",
       "    <tr>\n",
       "      <th>343</th>\n",
       "      <td>11</td>\n",
       "      <td>UR Suspend</td>\n",
       "    </tr>\n",
       "    <tr>\n",
       "      <th>344</th>\n",
       "      <td>12</td>\n",
       "      <td>Walls</td>\n",
       "    </tr>\n",
       "  </tbody>\n",
       "</table>\n",
       "</div>"
      ],
      "text/plain": [
       "     Standing             Deck\n",
       "333         1   Rakdos Madness\n",
       "334         2    MonoU Faeries\n",
       "335         3        UB Terror\n",
       "336         4         Caw Gate\n",
       "337         5        Jund Glee\n",
       "338         6    Jund Midrange\n",
       "339         7        Jund Glee\n",
       "340         8         WB Blade\n",
       "341         9  Grixis Affinity\n",
       "342        10        BW Stompy\n",
       "343        11       UR Suspend\n",
       "344        12            Walls"
      ]
     },
     "execution_count": 19,
     "metadata": {},
     "output_type": "execute_result"
    }
   ],
   "source": [
    "# Letztes Event Ergebnisse\n",
    "events_df.loc[events_df[\"Date\"] == events_df[\"Date\"].iloc[-1], [\"Standing\", \"Deck\"]]\n",
    "\n",
    "# Spezifisches Event stattdessen\n",
    "#events_df.loc[events_df[\"Date\"] == \"2024-12-27\", [\"Standing\", \"Deck\"]]\n"
   ]
  },
  {
   "cell_type": "code",
   "execution_count": 7,
   "id": "925357ef-6b39-445e-ad6a-a09dfa592619",
   "metadata": {},
   "outputs": [
    {
     "data": {
      "text/plain": [
       "<Axes: xlabel='Date'>"
      ]
     },
     "execution_count": 7,
     "metadata": {},
     "output_type": "execute_result"
    },
    {
     "data": {
      "image/png": "[encoded data removed]",
      "text/plain": [
       "<Figure size 640x480 with 1 Axes>"
      ]
     },
     "metadata": {},
     "output_type": "display_data"
    }
   ],
   "source": [
    "# Spieleranzahl pro Event\n",
    "events_people_count = events_df[\"Date\"].value_counts()[events_df[\"Date\"].unique()]\n",
    "events_people_count.plot.bar()"
   ]
  },
  {
   "cell_type": "code",
   "execution_count": 8,
   "id": "331a31c5-57a1-4bce-a587-7cf632037830",
   "metadata": {},
   "outputs": [],
   "source": [
    "decks_df[\"AggroB\"] = (decks_df[\"Aggro\"] == 'TRUE').astype(int)\n",
    "decks_df[\"TempoB\"] = (decks_df[\"Tempo\"] == 'TRUE').astype(int)\n",
    "decks_df[\"MidrangeB\"] = (decks_df[\"Midrange\"] == 'TRUE').astype(int)\n",
    "decks_df[\"ControlB\"] = (decks_df[\"Control\"] == 'TRUE').astype(int)\n",
    "decks_df[\"ComboB\"] = (decks_df[\"Combo\"] == 'TRUE').astype(int)\n",
    "\n",
    "decks_df[\"AggroV\"] = (1/(decks_df[\"AggroB\"] + decks_df[\"TempoB\"] + decks_df[\"MidrangeB\"] + decks_df[\"ControlB\"] + decks_df[\"ComboB\"]))*decks_df[\"AggroB\"]\n",
    "decks_df[\"TempoV\"] = (1/(decks_df[\"AggroB\"] + decks_df[\"TempoB\"] + decks_df[\"MidrangeB\"] + decks_df[\"ControlB\"] + decks_df[\"ComboB\"]))*decks_df[\"TempoB\"]\n",
    "decks_df[\"MidrangeV\"] = (1/(decks_df[\"AggroB\"] + decks_df[\"TempoB\"] + decks_df[\"MidrangeB\"] + decks_df[\"ControlB\"] + decks_df[\"ComboB\"]))*decks_df[\"MidrangeB\"]\n",
    "decks_df[\"ControlV\"] = (1/(decks_df[\"AggroB\"] + decks_df[\"TempoB\"] + decks_df[\"MidrangeB\"] + decks_df[\"ControlB\"] + decks_df[\"ComboB\"]))*decks_df[\"ControlB\"]\n",
    "decks_df[\"ComboV\"] = (1/(decks_df[\"AggroB\"] + decks_df[\"TempoB\"] + decks_df[\"MidrangeB\"] + decks_df[\"ControlB\"] + decks_df[\"ComboB\"]))*decks_df[\"ComboB\"]"
   ]
  },
  {
   "cell_type": "code",
   "execution_count": 20,
   "id": "52683490-da6c-4ac5-9fe0-d30ebcc8aef7",
   "metadata": {},
   "outputs": [
    {
     "data": {
      "text/plain": [
       "<Axes: title={'center': 'Archetypes 2025-01-31'}>"
      ]
     },
     "execution_count": 20,
     "metadata": {},
     "output_type": "execute_result"
    },
    {
     "data": {
      "image/png": "[encoded data removed]",
      "text/plain": [
       "<Figure size 640x480 with 1 Axes>"
      ]
     },
     "metadata": {},
     "output_type": "display_data"
    }
   ],
   "source": [
    "# for last event\n",
    "date_of_event = events_df[\"Date\"].iloc[-1]\n",
    "\n",
    "# for specific event\n",
    "#date_of_event = \"2024-12-27\"\n",
    "\n",
    "decks_of_event = events_df.loc[events_df[\"Date\"] == date_of_event].merge(decks_df, how=\"left\", on=\"Deck\")\n",
    "\n",
    "\n",
    "archetypevalues_of_event = decks_of_event[[\"AggroV\", \"TempoV\", \"MidrangeV\", \"ControlV\", \"ComboV\"]].copy()\n",
    "archetypevalues_of_event.sum().plot.pie(title=\"Archetypes \" + date_of_event, autopct='%1.1f%%', labels=[\"Aggro\", \"Tempo\", \"Midrange\", \"Control\", \"Combo\"])"
   ]
  },
  {
   "cell_type": "code",
   "execution_count": 14,
   "id": "556f810e-2963-42de-921a-14f683093989",
   "metadata": {},
   "outputs": [
    {
     "data": {
      "text/plain": [
       "Player         \n",
       "Michi S.           13\n",
       "Raphael K.         11\n",
       "Timo Bu.            8\n",
       "Marvin H.           6\n",
       "Martin G.           5\n",
       "Michael K.          4\n",
       "Luen T.             4\n",
       "Wei Luen T.         3\n",
       "Tim R.              3\n",
       "Aaron S.            2\n",
       "Christopher Hö.     2\n",
       "Johannes Br.        2\n",
       "Max R.              2\n",
       "Paul M.             2\n",
       "Jean-Luc K.         2\n",
       "Andreas C.          1\n",
       "Alexander R.        1\n",
       "Henrik A.           1\n",
       "Fabio C.            1\n",
       "Matthias K.         1\n",
       "Kai B.              1\n",
       "Christian K.        1\n",
       "Basti B.            1\n",
       "Christopher H.      1\n",
       "Fabian W.           1\n",
       "Paul S.             1\n",
       "Muhammed S.         1\n",
       "Simon H.            1\n",
       "Robert              1\n",
       "Philipp G.          1\n",
       "Thomas S.           1\n",
       "Timo Bl.            1\n",
       "Wadim B.            1\n",
       "Wolfgang K.         1\n",
       "Yann P.             1\n",
       "Name: count, dtype: int64"
      ]
     },
     "execution_count": 14,
     "metadata": {},
     "output_type": "execute_result"
    }
   ],
   "source": [
    "# Top Top4 Finishers\n",
    "top4_finishers = events_df.loc[events_df[\"Standing\"] <= 4, [\"Player\"]]\n",
    "regular_top4_finishers = top4_finishers.value_counts()\n",
    "regular_top4_finishers"
   ]
  },
  {
   "cell_type": "code",
   "execution_count": 11,
   "id": "a1550b93-5f92-47fb-bda1-ae1a906a7d68",
   "metadata": {},
   "outputs": [
    {
     "data": {
      "text/plain": [
       "Player         \n",
       "Raphael K.         3\n",
       "Michi S.           3\n",
       "Aaron S.           2\n",
       "Timo Bu.           2\n",
       "Alexander R.       1\n",
       "Johannes Br.       1\n",
       "Christopher Hö.    1\n",
       "Fabian W.          1\n",
       "Jean-Luc K.        1\n",
       "Martin G.          1\n",
       "Luen T.            1\n",
       "Kai B.             1\n",
       "Marvin H.          1\n",
       "Michael K.         1\n",
       "Max R.             1\n",
       "Paul S.            1\n",
       "Simon H.           1\n",
       "Name: count, dtype: int64"
      ]
     },
     "execution_count": 11,
     "metadata": {},
     "output_type": "execute_result"
    }
   ],
   "source": [
    "# Sieger\n",
    "winners = events_df.loc[events_df[\"Standing\"] <= 1, [\"Player\"]]\n",
    "regular_winners = winners.value_counts()\n",
    "regular_winners"
   ]
  },
  {
   "cell_type": "code",
   "execution_count": 12,
   "id": "b9534832-0a60-4c36-b031-87ec5fb1f995",
   "metadata": {},
   "outputs": [
    {
     "data": {
      "text/plain": [
       "<BarContainer object of 3 artists>"
      ]
     },
     "execution_count": 12,
     "metadata": {},
     "output_type": "execute_result"
    },
    {
     "data": {
      "image/png": "[encoded data removed]",
      "text/plain": [
       "<Figure size 640x480 with 1 Axes>"
      ]
     },
     "metadata": {},
     "output_type": "display_data"
    }
   ],
   "source": [
    "# Top Top4 Finishers, mit manueller Ausgabe\n",
    "for_plot = pd.DataFrame({\n",
    "    \"Name\": [\"Raphael K.\", \"Michi S.\", \"Timo Bu.\"],\n",
    "    \"#Top4\": [9, 12, 8],\n",
    "})\n",
    "\n",
    "\n",
    "fig, ax = plt.subplots()\n",
    "ax.yaxis.set_ticks([8, 9, 12])\n",
    "plt.bar(for_plot[\"Name\"], for_plot[\"#Top4\"], label=\"Top 4 Finishes\", color='orange')"
   ]
  },
  {
   "cell_type": "code",
   "execution_count": 30,
   "id": "18e04201-daa5-44ec-ade8-4f2b74070924",
   "metadata": {},
   "outputs": [
    {
     "name": "stdout",
     "output_type": "stream",
     "text": [
      "Player         \n",
      "Michi S.           2\n",
      "Raphael K.         2\n",
      "Fabian W.          1\n",
      "Christopher Hö.    1\n",
      "Aaron S.           1\n",
      "Johannes Br.       1\n",
      "Jean-Luc K.        1\n",
      "Max R.             1\n",
      "Marvin H.          1\n",
      "Michael K.         1\n",
      "Paul S.            1\n",
      "Simon H.           1\n",
      "Timo Bu.           1\n",
      "Name: count, dtype: int64\n"
     ]
    }
   ],
   "source": [
    "# Top Top4 Finishers for 2024\n",
    "df = events_df\n",
    "df['Date'] = pd.to_datetime(df['Date'])\n",
    "start_date = '2024-01-01'\n",
    "end_date = '2024-12-31'\n",
    "mask = (df['Date'] >= start_date) & (df['Date'] <= end_date)\n",
    "filtered_df = df.loc[mask]\n",
    "\n",
    "top4_finishers_2024 = filtered_df.loc[events_df[\"Standing\"] <= 4, [\"Player\"]]\n",
    "regular_top4_finishers_2024 = top4_finishers_2024.value_counts()\n",
    "regular_top4_finishers_2024"
   ]
  },
  {
   "cell_type": "code",
   "execution_count": null,
   "id": "644e3cc9-2f6a-4705-b9b6-49ed2a9e6a7e",
   "metadata": {},
   "outputs": [],
   "source": []
  }
 ],
 "metadata": {
  "kernelspec": {
   "display_name": "Python 3 (ipykernel)",
   "language": "python",
   "name": "python3"
  },
  "language_info": {
   "codemirror_mode": {
    "name": "ipython",
    "version": 3
   },
   "file_extension": ".py",
   "mimetype": "text/x-python",
   "name": "python",
   "nbconvert_exporter": "python",
   "pygments_lexer": "ipython3",
   "version": "3.13.2"
  }
 },
 "nbformat": 4,
 "nbformat_minor": 5
}
